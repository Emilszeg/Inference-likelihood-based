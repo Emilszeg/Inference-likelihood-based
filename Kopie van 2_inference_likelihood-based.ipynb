{
 "cells": [
  {
   "cell_type": "code",
   "execution_count": 1,
   "metadata": {
    "colab": {
     "base_uri": "https://localhost:8080/"
    },
    "executionInfo": {
     "elapsed": 24688,
     "status": "ok",
     "timestamp": 1737641038702,
     "user": {
      "displayName": "Hinke Dekinga",
      "userId": "09861696739801771207"
     },
     "user_tz": -60
    },
    "id": "90hjYVTsIYQD",
    "outputId": "478e7209-a2f7-406e-fe27-0dd632631639"
   },
   "outputs": [
    {
     "name": "stdout",
     "output_type": "stream",
     "text": [
      "Requirement already satisfied: bilby in /usr/local/python/3.12.1/lib/python3.12/site-packages (2.4.0)\n",
      "Requirement already satisfied: lalsuite in /usr/local/python/3.12.1/lib/python3.12/site-packages (7.25)\n",
      "Requirement already satisfied: bilby.cython>=0.3.0 in /usr/local/python/3.12.1/lib/python3.12/site-packages (from bilby) (0.5.3)\n",
      "Requirement already satisfied: dynesty>=2.0.1 in /usr/local/python/3.12.1/lib/python3.12/site-packages (from bilby) (2.1.5)\n",
      "Requirement already satisfied: emcee in /usr/local/python/3.12.1/lib/python3.12/site-packages (from bilby) (3.1.6)\n",
      "Requirement already satisfied: corner in /usr/local/python/3.12.1/lib/python3.12/site-packages (from bilby) (2.2.3)\n",
      "Requirement already satisfied: numpy in /home/codespace/.local/lib/python3.12/site-packages (from bilby) (2.2.0)\n",
      "Requirement already satisfied: matplotlib in /home/codespace/.local/lib/python3.12/site-packages (from bilby) (3.9.3)\n",
      "Requirement already satisfied: scipy>=1.5 in /home/codespace/.local/lib/python3.12/site-packages (from bilby) (1.14.1)\n",
      "Requirement already satisfied: pandas in /home/codespace/.local/lib/python3.12/site-packages (from bilby) (2.2.3)\n",
      "Requirement already satisfied: dill in /usr/local/python/3.12.1/lib/python3.12/site-packages (from bilby) (0.3.9)\n",
      "Requirement already satisfied: tqdm in /usr/local/python/3.12.1/lib/python3.12/site-packages (from bilby) (4.67.1)\n",
      "Requirement already satisfied: h5py in /usr/local/python/3.12.1/lib/python3.12/site-packages (from bilby) (3.12.1)\n",
      "Requirement already satisfied: attrs in /home/codespace/.local/lib/python3.12/site-packages (from bilby) (24.2.0)\n",
      "Requirement already satisfied: astropy in /usr/local/python/3.12.1/lib/python3.12/site-packages (from lalsuite) (7.0.0)\n",
      "Requirement already satisfied: ligo-segments in /usr/local/python/3.12.1/lib/python3.12/site-packages (from lalsuite) (1.4.0)\n",
      "Requirement already satisfied: lscsoft-glue in /usr/local/python/3.12.1/lib/python3.12/site-packages (from lalsuite) (4.0.0)\n",
      "Requirement already satisfied: python-dateutil in /home/codespace/.local/lib/python3.12/site-packages (from lalsuite) (2.9.0.post0)\n",
      "Requirement already satisfied: pyerfa>=2.0.1.1 in /usr/local/python/3.12.1/lib/python3.12/site-packages (from astropy->lalsuite) (2.0.1.5)\n",
      "Requirement already satisfied: astropy-iers-data>=0.2024.10.28.0.34.7 in /usr/local/python/3.12.1/lib/python3.12/site-packages (from astropy->lalsuite) (0.2025.1.20.0.32.27)\n",
      "Requirement already satisfied: PyYAML>=6.0.0 in /home/codespace/.local/lib/python3.12/site-packages (from astropy->lalsuite) (6.0.2)\n",
      "Requirement already satisfied: packaging>=22.0.0 in /home/codespace/.local/lib/python3.12/site-packages (from astropy->lalsuite) (24.2)\n",
      "Requirement already satisfied: contourpy>=1.0.1 in /home/codespace/.local/lib/python3.12/site-packages (from matplotlib->bilby) (1.3.1)\n",
      "Requirement already satisfied: cycler>=0.10 in /home/codespace/.local/lib/python3.12/site-packages (from matplotlib->bilby) (0.12.1)\n",
      "Requirement already satisfied: fonttools>=4.22.0 in /home/codespace/.local/lib/python3.12/site-packages (from matplotlib->bilby) (4.55.3)\n",
      "Requirement already satisfied: kiwisolver>=1.3.1 in /home/codespace/.local/lib/python3.12/site-packages (from matplotlib->bilby) (1.4.7)\n",
      "Requirement already satisfied: pillow>=8 in /home/codespace/.local/lib/python3.12/site-packages (from matplotlib->bilby) (11.0.0)\n",
      "Requirement already satisfied: pyparsing>=2.3.1 in /home/codespace/.local/lib/python3.12/site-packages (from matplotlib->bilby) (3.2.0)\n",
      "Requirement already satisfied: six>=1.5 in /home/codespace/.local/lib/python3.12/site-packages (from python-dateutil->lalsuite) (1.17.0)\n",
      "Requirement already satisfied: pyOpenSSL in /usr/local/python/3.12.1/lib/python3.12/site-packages (from lscsoft-glue->lalsuite) (25.0.0)\n",
      "Requirement already satisfied: pytz>=2020.1 in /home/codespace/.local/lib/python3.12/site-packages (from pandas->bilby) (2024.2)\n",
      "Requirement already satisfied: tzdata>=2022.7 in /home/codespace/.local/lib/python3.12/site-packages (from pandas->bilby) (2024.2)\n",
      "Requirement already satisfied: cryptography<45,>=41.0.5 in /usr/local/python/3.12.1/lib/python3.12/site-packages (from pyOpenSSL->lscsoft-glue->lalsuite) (44.0.0)\n",
      "Requirement already satisfied: typing-extensions>=4.9 in /home/codespace/.local/lib/python3.12/site-packages (from pyOpenSSL->lscsoft-glue->lalsuite) (4.12.2)\n",
      "Requirement already satisfied: cffi>=1.12 in /home/codespace/.local/lib/python3.12/site-packages (from cryptography<45,>=41.0.5->pyOpenSSL->lscsoft-glue->lalsuite) (1.17.1)\n",
      "Requirement already satisfied: pycparser in /home/codespace/.local/lib/python3.12/site-packages (from cffi>=1.12->cryptography<45,>=41.0.5->pyOpenSSL->lscsoft-glue->lalsuite) (2.22)\n"
     ]
    }
   ],
   "source": [
    "NEED_TO_INSTALL_PACKAGES = True\n",
    "if NEED_TO_INSTALL_PACKAGES:\n",
    "    ! pip install bilby lalsuite\n",
    "import bilby"
   ]
  },
  {
   "cell_type": "code",
   "execution_count": 2,
   "metadata": {
    "colab": {
     "base_uri": "https://localhost:8080/"
    },
    "executionInfo": {
     "elapsed": 4,
     "status": "ok",
     "timestamp": 1737641038702,
     "user": {
      "displayName": "Hinke Dekinga",
      "userId": "09861696739801771207"
     },
     "user_tz": -60
    },
    "id": "F4qQopLKIYQE",
    "outputId": "f39a0d7c-7aa8-45e1-a2fa-9c233b5ccdd5"
   },
   "outputs": [
    {
     "name": "stdout",
     "output_type": "stream",
     "text": [
      "13.234895236609914\n"
     ]
    }
   ],
   "source": [
    "from bilby.gw import conversion\n",
    "\n",
    "#calculate the chirp mass from the component masses\n",
    "chirp_mass = conversion.component_masses_to_chirp_mass(mass_1=30.1, mass_2=8.3)\n",
    "print(chirp_mass)"
   ]
  },
  {
   "cell_type": "code",
   "execution_count": 3,
   "metadata": {
    "colab": {
     "base_uri": "https://localhost:8080/"
    },
    "executionInfo": {
     "elapsed": 4468,
     "status": "ok",
     "timestamp": 1737641043166,
     "user": {
      "displayName": "Hinke Dekinga",
      "userId": "09861696739801771207"
     },
     "user_tz": -60
    },
    "id": "8jD6EeURIYQG",
    "outputId": "aba8b849-e10f-499e-8f28-aeb1e36f7d9a"
   },
   "outputs": [
    {
     "name": "stderr",
     "output_type": "stream",
     "text": [
      "16:56 bilby INFO    : Using aligned spin prior\n",
      "16:56 bilby INFO    : No prior given, using default BBH priors in /home/codespace/.python/current/lib/python3.12/site-packages/bilby/gw/prior_files/aligned_spins_bbh.prior.\n"
     ]
    },
    {
     "name": "stdout",
     "output_type": "stream",
     "text": [
      "dict_keys(['mass_1', 'mass_2', 'mass_ratio', 'chirp_mass', 'luminosity_distance', 'dec', 'ra', 'theta_jn', 'psi', 'phase', 'chi_1', 'chi_2'])\n"
     ]
    }
   ],
   "source": [
    "POSSIBLE_KEYS = bilby.gw.prior.BBHPriorDict(aligned_spin=True).keys()\n",
    "print(POSSIBLE_KEYS)"
   ]
  },
  {
   "cell_type": "code",
   "execution_count": 4,
   "metadata": {
    "id": "S-eJy2JRIYQH"
   },
   "outputs": [],
   "source": [
    "### LET US SETUP SOME INJECTION PARAMETERS\n",
    "#injection_parameters = dict(\n",
    "#    mass_1 = 60,\n",
    "#    mass_2 = 50,\n",
    "#    mass_ratio = 0.8, #m2/m1\n",
    "#    chirp_mass = 47.642464144804954,\n",
    "#    chi_1 = 0.2,\n",
    "#    chi_2 = 0.3,\n",
    "#    luminosity_distance = 400,\n",
    "#    theta_jn = 1.4,\n",
    "#    psi = 2.0,\n",
    "#    ra = 1.375,\n",
    "#    dec = -0.7,\n",
    "#    phase = 1.2,\n",
    "#    geocent_time = 100,\n",
    "#)\n",
    "\n",
    "injection_parameters = dict(\n",
    "    mass_1 = 30.1,\n",
    "    mass_2 = 8.3,\n",
    "    mass_ratio = 8.3/30.1, #m2/m1\n",
    "    chirp_mass = 13.234895236609914,\n",
    "    chi_1 = 0.44,\n",
    "    chi_2 = 0, #Want dat weten we niet\n",
    "    luminosity_distance = 740,\n",
    "    theta_jn = 0.71,\n",
    "    psi = 2.0, # Proberen localisatie te vinden\n",
    "    ra = 3.6, # 14h\n",
    "    dec = 0.65, # 40\n",
    "    phase = 1.2, #Geen idee wat voor phase het is\n",
    "    geocent_time = 1239082262.2,\n",
    ")"
   ]
  },
  {
   "cell_type": "code",
   "execution_count": 5,
   "metadata": {
    "id": "K_YYs5kXIYQH"
   },
   "outputs": [],
   "source": [
    "waveform_arguments = dict(\n",
    "    waveform_approximant = 'IMRPhenomPv2',\n",
    "    reference_frequency = 50,\n",
    "    minimum_frequency = 20,\n",
    "    sampling_frequency = 1024,\n",
    "    duration = 6,\n",
    "    start_time = injection_parameters['geocent_time'] - 4,\n",
    ")"
   ]
  },
  {
   "cell_type": "code",
   "execution_count": 6,
   "metadata": {
    "colab": {
     "base_uri": "https://localhost:8080/"
    },
    "executionInfo": {
     "elapsed": 4,
     "status": "ok",
     "timestamp": 1737641043166,
     "user": {
      "displayName": "Hinke Dekinga",
      "userId": "09861696739801771207"
     },
     "user_tz": -60
    },
    "id": "xJG2M6AEIYQI",
    "outputId": "b10f5534-50e1-4306-c6c4-9661fdca9fca"
   },
   "outputs": [
    {
     "name": "stderr",
     "output_type": "stream",
     "text": [
      "16:57 bilby INFO    : Waveform generator initiated with\n",
      "  frequency_domain_source_model: bilby.gw.source.lal_binary_black_hole\n",
      "  time_domain_source_model: None\n",
      "  parameter_conversion: bilby.gw.conversion.convert_to_lal_binary_black_hole_parameters\n"
     ]
    }
   ],
   "source": [
    "waveform_generator = bilby.gw.WaveformGenerator(\n",
    "    duration = waveform_arguments['duration'],\n",
    "    sampling_frequency = waveform_arguments['sampling_frequency'],\n",
    "    frequency_domain_source_model = bilby.gw.source.lal_binary_black_hole,\n",
    "    parameter_conversion = bilby.gw.conversion.convert_to_lal_binary_black_hole_parameters,\n",
    "    waveform_arguments = waveform_arguments,\n",
    ")"
   ]
  },
  {
   "cell_type": "code",
   "execution_count": 7,
   "metadata": {
    "colab": {
     "base_uri": "https://localhost:8080/",
     "height": 966
    },
    "executionInfo": {
     "elapsed": 918,
     "status": "ok",
     "timestamp": 1737641044080,
     "user": {
      "displayName": "Hinke Dekinga",
      "userId": "09861696739801771207"
     },
     "user_tz": -60
    },
    "id": "Upqd54vgIYQI",
    "outputId": "5d23c84d-5bbe-4cfc-b161-8fccd15f57ac"
   },
   "outputs": [
    {
     "name": "stderr",
     "output_type": "stream",
     "text": [
      "/home/codespace/.python/current/lib/python3.12/site-packages/lalsimulation/lalsimulation.py:8: UserWarning: Wswiglal-redir-stdio:\n",
      "\n",
      "SWIGLAL standard output/error redirection is enabled in IPython.\n",
      "This may lead to performance penalties. To disable locally, use:\n",
      "\n",
      "with lal.no_swig_redirect_standard_output_error():\n",
      "    ...\n",
      "\n",
      "To disable globally, use:\n",
      "\n",
      "lal.swig_redirect_standard_output_error(False)\n",
      "\n",
      "Note however that this will likely lead to error messages from\n",
      "LAL functions being either misdirected or lost when called from\n",
      "Jupyter notebooks.\n",
      "\n",
      "To suppress this warning, use:\n",
      "\n",
      "import warnings\n",
      "warnings.filterwarnings(\"ignore\", \"Wswiglal-redir-stdio\")\n",
      "import lal\n",
      "\n",
      "  import lal\n",
      "16:57 bilby WARNING : There are unused waveform kwargs. This is deprecated behavior and will\n",
      "result in an error in future releases. Make sure all of the waveform kwargs are correctly\n",
      "spelled.\n",
      "\n",
      "Unused waveform_kwargs: {'sampling_frequency': 1024, 'duration': 6, 'start_time': 1239082258.2}\n",
      "\n"
     ]
    },
    {
     "data": {
      "text/plain": [
       "[<matplotlib.lines.Line2D at 0x761c0d2d56d0>]"
      ]
     },
     "execution_count": 7,
     "metadata": {},
     "output_type": "execute_result"
    },
    {
     "data": {
      "image/png": "[encoded data removed]",
      "text/plain": [
       "<Figure size 640x480 with 1 Axes>"
      ]
     },
     "metadata": {},
     "output_type": "display_data"
    }
   ],
   "source": [
    "import matplotlib.pyplot as plt\n",
    "plt.plot(waveform_generator.time_domain_strain(injection_parameters)['plus'])"
   ]
  },
  {
   "cell_type": "code",
   "execution_count": 8,
   "metadata": {
    "id": "zB_PHJCoIYQI"
   },
   "outputs": [],
   "source": [
    "ifos = bilby.gw.detector.InterferometerList(['H1', 'L1', 'V1'])\n",
    "ifos_00 = bilby.gw.detector.InterferometerList(['H1', 'L1', 'V1'])\n",
    "\n",
    "ifos.set_strain_data_from_power_spectral_densities(sampling_frequency=waveform_arguments['sampling_frequency'],\n",
    "                                                   duration=waveform_arguments['duration'],\n",
    "                                                   start_time=waveform_arguments['start_time'])\n",
    "\n",
    "ifos_00.set_strain_data_from_zero_noise(sampling_frequency=waveform_arguments['sampling_frequency'],\n",
    "                                        duration=waveform_arguments['duration'],\n",
    "                                        start_time=waveform_arguments['start_time'])"
   ]
  },
  {
   "cell_type": "code",
   "execution_count": 9,
   "metadata": {
    "colab": {
     "base_uri": "https://localhost:8080/",
     "height": 480
    },
    "executionInfo": {
     "elapsed": 393,
     "status": "ok",
     "timestamp": 1737641044469,
     "user": {
      "displayName": "Hinke Dekinga",
      "userId": "09861696739801771207"
     },
     "user_tz": -60
    },
    "id": "-GqYdsbWIYQJ",
    "outputId": "d56e61a2-644f-4fac-eea1-b407508c22fc"
   },
   "outputs": [
    {
     "data": {
      "text/plain": [
       "<matplotlib.legend.Legend at 0x761c0d319760>"
      ]
     },
     "execution_count": 9,
     "metadata": {},
     "output_type": "execute_result"
    },
    {
     "data": {
      "image/png": "[encoded data removed]",
      "text/plain": [
       "<Figure size 640x480 with 1 Axes>"
      ]
     },
     "metadata": {},
     "output_type": "display_data"
    }
   ],
   "source": [
    "plt.plot(ifos_00[1].time_array, ifos_00[1].time_domain_strain, label='L1 zero noise')\n",
    "plt.plot(ifos[1].time_array, ifos[1].time_domain_strain, label='L1 noisy', alpha=0.5)\n",
    "plt.legend()"
   ]
  },
  {
   "cell_type": "code",
   "execution_count": 10,
   "metadata": {
    "colab": {
     "base_uri": "https://localhost:8080/"
    },
    "executionInfo": {
     "elapsed": 529,
     "status": "ok",
     "timestamp": 1737641044994,
     "user": {
      "displayName": "Hinke Dekinga",
      "userId": "09861696739801771207"
     },
     "user_tz": -60
    },
    "id": "mtsOLsxeIYQJ",
    "outputId": "ae8a64fe-7f3f-4bab-942e-96e69346e0d8"
   },
   "outputs": [
    {
     "name": "stderr",
     "output_type": "stream",
     "text": [
      "16:57 bilby WARNING : There are unused waveform kwargs. This is deprecated behavior and will\n",
      "result in an error in future releases. Make sure all of the waveform kwargs are correctly\n",
      "spelled.\n",
      "\n",
      "Unused waveform_kwargs: {'sampling_frequency': 1024, 'duration': 6, 'start_time': 1239082258.2}\n",
      "\n",
      "16:57 bilby INFO    : Injected signal in H1:\n",
      "16:57 bilby INFO    :   optimal SNR = 18.46\n",
      "16:57 bilby INFO    :   matched filter SNR = 18.64-1.47j\n",
      "16:57 bilby INFO    :   mass_1 = 30.1\n",
      "16:57 bilby INFO    :   mass_2 = 8.3\n",
      "16:57 bilby INFO    :   mass_ratio = 0.27574750830564787\n",
      "16:57 bilby INFO    :   chirp_mass = 13.234895236609914\n",
      "16:57 bilby INFO    :   chi_1 = 0.44\n",
      "16:57 bilby INFO    :   chi_2 = 0\n",
      "16:57 bilby INFO    :   luminosity_distance = 740\n",
      "16:57 bilby INFO    :   theta_jn = 0.71\n",
      "16:57 bilby INFO    :   psi = 2.0\n",
      "16:57 bilby INFO    :   ra = 3.6\n",
      "16:57 bilby INFO    :   dec = 0.65\n",
      "16:57 bilby INFO    :   phase = 1.2\n",
      "16:57 bilby INFO    :   geocent_time = 1239082262.2\n",
      "16:57 bilby INFO    : Injected signal in L1:\n",
      "16:57 bilby INFO    :   optimal SNR = 21.26\n",
      "16:57 bilby INFO    :   matched filter SNR = 19.50+1.31j\n",
      "16:57 bilby INFO    :   mass_1 = 30.1\n",
      "16:57 bilby INFO    :   mass_2 = 8.3\n",
      "16:57 bilby INFO    :   mass_ratio = 0.27574750830564787\n",
      "16:57 bilby INFO    :   chirp_mass = 13.234895236609914\n",
      "16:57 bilby INFO    :   chi_1 = 0.44\n",
      "16:57 bilby INFO    :   chi_2 = 0\n",
      "16:57 bilby INFO    :   luminosity_distance = 740\n",
      "16:57 bilby INFO    :   theta_jn = 0.71\n",
      "16:57 bilby INFO    :   psi = 2.0\n",
      "16:57 bilby INFO    :   ra = 3.6\n",
      "16:57 bilby INFO    :   dec = 0.65\n",
      "16:57 bilby INFO    :   phase = 1.2\n",
      "16:57 bilby INFO    :   geocent_time = 1239082262.2\n",
      "16:57 bilby INFO    : Injected signal in V1:\n",
      "16:57 bilby INFO    :   optimal SNR = 9.95\n",
      "16:57 bilby INFO    :   matched filter SNR = 10.13-0.35j\n",
      "16:57 bilby INFO    :   mass_1 = 30.1\n",
      "16:57 bilby INFO    :   mass_2 = 8.3\n",
      "16:57 bilby INFO    :   mass_ratio = 0.27574750830564787\n",
      "16:57 bilby INFO    :   chirp_mass = 13.234895236609914\n",
      "16:57 bilby INFO    :   chi_1 = 0.44\n",
      "16:57 bilby INFO    :   chi_2 = 0\n",
      "16:57 bilby INFO    :   luminosity_distance = 740\n",
      "16:57 bilby INFO    :   theta_jn = 0.71\n",
      "16:57 bilby INFO    :   psi = 2.0\n",
      "16:57 bilby INFO    :   ra = 3.6\n",
      "16:57 bilby INFO    :   dec = 0.65\n",
      "16:57 bilby INFO    :   phase = 1.2\n",
      "16:57 bilby INFO    :   geocent_time = 1239082262.2\n",
      "16:57 bilby INFO    : Injected signal in H1:\n",
      "16:57 bilby INFO    :   optimal SNR = 18.46\n",
      "16:57 bilby INFO    :   matched filter SNR = 18.46+0.00j\n",
      "16:57 bilby INFO    :   mass_1 = 30.1\n",
      "16:57 bilby INFO    :   mass_2 = 8.3\n",
      "16:57 bilby INFO    :   mass_ratio = 0.27574750830564787\n",
      "16:57 bilby INFO    :   chirp_mass = 13.234895236609914\n",
      "16:57 bilby INFO    :   chi_1 = 0.44\n",
      "16:57 bilby INFO    :   chi_2 = 0\n",
      "16:57 bilby INFO    :   luminosity_distance = 740\n",
      "16:57 bilby INFO    :   theta_jn = 0.71\n",
      "16:57 bilby INFO    :   psi = 2.0\n",
      "16:57 bilby INFO    :   ra = 3.6\n",
      "16:57 bilby INFO    :   dec = 0.65\n",
      "16:57 bilby INFO    :   phase = 1.2\n",
      "16:57 bilby INFO    :   geocent_time = 1239082262.2\n",
      "16:57 bilby INFO    : Injected signal in L1:\n",
      "16:57 bilby INFO    :   optimal SNR = 21.26\n",
      "16:57 bilby INFO    :   matched filter SNR = 21.26+0.00j\n",
      "16:57 bilby INFO    :   mass_1 = 30.1\n",
      "16:57 bilby INFO    :   mass_2 = 8.3\n",
      "16:57 bilby INFO    :   mass_ratio = 0.27574750830564787\n",
      "16:57 bilby INFO    :   chirp_mass = 13.234895236609914\n",
      "16:57 bilby INFO    :   chi_1 = 0.44\n",
      "16:57 bilby INFO    :   chi_2 = 0\n",
      "16:57 bilby INFO    :   luminosity_distance = 740\n",
      "16:57 bilby INFO    :   theta_jn = 0.71\n",
      "16:57 bilby INFO    :   psi = 2.0\n",
      "16:57 bilby INFO    :   ra = 3.6\n",
      "16:57 bilby INFO    :   dec = 0.65\n",
      "16:57 bilby INFO    :   phase = 1.2\n",
      "16:57 bilby INFO    :   geocent_time = 1239082262.2\n",
      "16:57 bilby INFO    : Injected signal in V1:\n",
      "16:57 bilby INFO    :   optimal SNR = 9.95\n",
      "16:57 bilby INFO    :   matched filter SNR = 9.95+0.00j\n",
      "16:57 bilby INFO    :   mass_1 = 30.1\n",
      "16:57 bilby INFO    :   mass_2 = 8.3\n",
      "16:57 bilby INFO    :   mass_ratio = 0.27574750830564787\n",
      "16:57 bilby INFO    :   chirp_mass = 13.234895236609914\n",
      "16:57 bilby INFO    :   chi_1 = 0.44\n",
      "16:57 bilby INFO    :   chi_2 = 0\n",
      "16:57 bilby INFO    :   luminosity_distance = 740\n",
      "16:57 bilby INFO    :   theta_jn = 0.71\n",
      "16:57 bilby INFO    :   psi = 2.0\n",
      "16:57 bilby INFO    :   ra = 3.6\n",
      "16:57 bilby INFO    :   dec = 0.65\n",
      "16:57 bilby INFO    :   phase = 1.2\n",
      "16:57 bilby INFO    :   geocent_time = 1239082262.2\n"
     ]
    },
    {
     "data": {
      "text/plain": [
       "[{'plus': array([ 0.00000000e+00-0.00000000e+00j,  0.00000000e+00-0.00000000e+00j,\n",
       "          0.00000000e+00-0.00000000e+00j, ...,\n",
       "         -1.67657490e-25-1.21009587e-25j, -1.67020751e-25-1.20700265e-25j,\n",
       "          0.00000000e+00-0.00000000e+00j], shape=(3073,)),\n",
       "  'cross': array([ 0.00000000e+00+0.00000000e+00j,  0.00000000e+00+0.00000000e+00j,\n",
       "          0.00000000e+00+0.00000000e+00j, ...,\n",
       "         -1.16523796e-25+1.61442475e-25j, -1.16225940e-25+1.60829339e-25j,\n",
       "          0.00000000e+00+0.00000000e+00j], shape=(3073,))},\n",
       " {'plus': array([ 0.00000000e+00-0.00000000e+00j,  0.00000000e+00-0.00000000e+00j,\n",
       "          0.00000000e+00-0.00000000e+00j, ...,\n",
       "         -1.67657490e-25-1.21009587e-25j, -1.67020751e-25-1.20700265e-25j,\n",
       "          0.00000000e+00-0.00000000e+00j], shape=(3073,)),\n",
       "  'cross': array([ 0.00000000e+00+0.00000000e+00j,  0.00000000e+00+0.00000000e+00j,\n",
       "          0.00000000e+00+0.00000000e+00j, ...,\n",
       "         -1.16523796e-25+1.61442475e-25j, -1.16225940e-25+1.60829339e-25j,\n",
       "          0.00000000e+00+0.00000000e+00j], shape=(3073,))},\n",
       " {'plus': array([ 0.00000000e+00-0.00000000e+00j,  0.00000000e+00-0.00000000e+00j,\n",
       "          0.00000000e+00-0.00000000e+00j, ...,\n",
       "         -1.67657490e-25-1.21009587e-25j, -1.67020751e-25-1.20700265e-25j,\n",
       "          0.00000000e+00-0.00000000e+00j], shape=(3073,)),\n",
       "  'cross': array([ 0.00000000e+00+0.00000000e+00j,  0.00000000e+00+0.00000000e+00j,\n",
       "          0.00000000e+00+0.00000000e+00j, ...,\n",
       "         -1.16523796e-25+1.61442475e-25j, -1.16225940e-25+1.60829339e-25j,\n",
       "          0.00000000e+00+0.00000000e+00j], shape=(3073,))}]"
      ]
     },
     "execution_count": 10,
     "metadata": {},
     "output_type": "execute_result"
    }
   ],
   "source": [
    "ifos.inject_signal(\n",
    "    parameters=injection_parameters,\n",
    "    waveform_generator=waveform_generator,\n",
    ")\n",
    "\n",
    "ifos_00.inject_signal(\n",
    "    parameters=injection_parameters,\n",
    "    waveform_generator=waveform_generator,\n",
    ")"
   ]
  },
  {
   "cell_type": "code",
   "execution_count": 11,
   "metadata": {
    "colab": {
     "base_uri": "https://localhost:8080/",
     "height": 480
    },
    "executionInfo": {
     "elapsed": 512,
     "status": "ok",
     "timestamp": 1737641045500,
     "user": {
      "displayName": "Hinke Dekinga",
      "userId": "09861696739801771207"
     },
     "user_tz": -60
    },
    "id": "0tQUo813IYQK",
    "outputId": "72fd7a7b-70ec-44ad-b044-aed0ac983a45"
   },
   "outputs": [
    {
     "data": {
      "text/plain": [
       "<matplotlib.legend.Legend at 0x761c0d0df350>"
      ]
     },
     "execution_count": 11,
     "metadata": {},
     "output_type": "execute_result"
    },
    {
     "data": {
      "image/png": "[encoded data removed]",
      "text/plain": [
       "<Figure size 640x480 with 1 Axes>"
      ]
     },
     "metadata": {},
     "output_type": "display_data"
    }
   ],
   "source": [
    "plt.plot(ifos_00[1].time_array, ifos_00[1].time_domain_strain, label='L1 zero noise')\n",
    "plt.plot(ifos[1].time_array, ifos[1].time_domain_strain, label='L1 noisy', alpha=0.5)\n",
    "plt.legend()"
   ]
  },
  {
   "cell_type": "markdown",
   "metadata": {
    "id": "hNH_aIHqIYQK"
   },
   "source": [
    "$p(\\theta|d) = \\dfrac{\\mathcal{L}(d|\\theta) p(\\theta)}{\\mathcal{Z(d)}}$"
   ]
  },
  {
   "cell_type": "code",
   "execution_count": 12,
   "metadata": {
    "colab": {
     "base_uri": "https://localhost:8080/"
    },
    "executionInfo": {
     "elapsed": 384,
     "status": "ok",
     "timestamp": 1737641045880,
     "user": {
      "displayName": "Hinke Dekinga",
      "userId": "09861696739801771207"
     },
     "user_tz": -60
    },
    "id": "HozNqPCgIYQL",
    "outputId": "7c4539cb-96ca-4415-d9ab-362d81b44f97"
   },
   "outputs": [
    {
     "name": "stderr",
     "output_type": "stream",
     "text": [
      "16:57 bilby INFO    : Using aligned spin prior\n",
      "16:57 bilby INFO    : No prior given, using default BBH priors in /home/codespace/.python/current/lib/python3.12/site-packages/bilby/gw/prior_files/aligned_spins_bbh.prior.\n"
     ]
    },
    {
     "data": {
      "text/plain": [
       "{'mass_1': Uniform(minimum=5, maximum=50, name='mass_1', latex_label='$m_1$', unit=None, boundary=None),\n",
       " 'mass_2': Uniform(minimum=5, maximum=50, name='mass_2', latex_label='$m_2$', unit=None, boundary=None),\n",
       " 'luminosity_distance': bilby.gw.prior.UniformSourceFrame(minimum=100.0, maximum=5000.0, cosmology='Planck15', name='luminosity_distance', latex_label='$d_L$', unit='Mpc', boundary=None),\n",
       " 'dec': Cosine(minimum=-1.5707963267948966, maximum=1.5707963267948966, name='dec', latex_label='$\\\\mathrm{DEC}$', unit=None, boundary=None),\n",
       " 'ra': Uniform(minimum=0, maximum=6.283185307179586, name='ra', latex_label='$\\\\mathrm{RA}$', unit=None, boundary='periodic'),\n",
       " 'theta_jn': Sine(minimum=0, maximum=3.141592653589793, name='theta_jn', latex_label='$\\\\theta_{JN}$', unit=None, boundary=None),\n",
       " 'psi': Uniform(minimum=0, maximum=3.141592653589793, name='psi', latex_label='$\\\\psi$', unit=None, boundary='periodic'),\n",
       " 'phase': Uniform(minimum=0, maximum=6.283185307179586, name='phase', latex_label='$\\\\phi$', unit=None, boundary='periodic'),\n",
       " 'chi_1': bilby.gw.prior.AlignedSpin(a_prior=Uniform(minimum=0, maximum=0.99, name=None, latex_label=None, unit=None, boundary=None), z_prior=Uniform(minimum=-1, maximum=1, name=None, latex_label=None, unit=None, boundary=None), name='chi_1', latex_label='$\\\\chi_1$', unit=None, boundary=None, minimum=-0.99, maximum=0.99),\n",
       " 'chi_2': bilby.gw.prior.AlignedSpin(a_prior=Uniform(minimum=0, maximum=0.99, name=None, latex_label=None, unit=None, boundary=None), z_prior=Uniform(minimum=-1, maximum=1, name=None, latex_label=None, unit=None, boundary=None), name='chi_2', latex_label='$\\\\chi_2$', unit=None, boundary=None, minimum=-0.99, maximum=0.99)}"
      ]
     },
     "execution_count": 12,
     "metadata": {},
     "output_type": "execute_result"
    }
   ],
   "source": [
    "priors = bilby.gw.prior.BBHPriorDict(aligned_spin=True)\n",
    "priors['mass_1'] = bilby.core.prior.Uniform(name='mass_1', minimum=5, maximum=50, unit=None)\n",
    "priors['mass_2'] = bilby.core.prior.Uniform(name='mass_2', minimum=5, maximum=50, unit=None)\n",
    "#priors['chirp_mass'] = bilby.gw.prior.UniformInComponentsChirpMass(minimum=10, maximum=50, name='chirp_mass', latex_label='$\\\\mathcal{M}$', unit=None, boundary=None)\n",
    "pop_keys = ['mass_ratio', 'chirp_mass']\n",
    "for key in pop_keys:\n",
    "  priors.pop(key)\n",
    "priors"
   ]
  },
  {
   "cell_type": "code",
   "execution_count": 13,
   "metadata": {
    "id": "XTFOL8_qIYQO"
   },
   "outputs": [],
   "source": [
    "# keys_of_interest = ['chirp_mass', 'dec']\n",
    "keys_of_interest = ['mass_1', 'mass_2']\n",
    "for key in priors.keys():\n",
    "   if key not in keys_of_interest:\n",
    "       priors[key] = injection_parameters[key]\n",
    "\n",
    "priors['geocent_time'] = injection_parameters['geocent_time']"
   ]
  },
  {
   "cell_type": "code",
   "execution_count": 14,
   "metadata": {
    "id": "mK6PSjjbIYQP"
   },
   "outputs": [],
   "source": [
    "likelihood = bilby.gw.GravitationalWaveTransient(\n",
    "    interferometers=ifos,\n",
    "    waveform_generator=waveform_generator,\n",
    "    priors=priors,\n",
    ")"
   ]
  },
  {
   "cell_type": "code",
   "execution_count": 15,
   "metadata": {
    "id": "e9PyQ81ZBthz"
   },
   "outputs": [],
   "source": [
    "bilby.core.utils.logger.setLevel('ERROR')"
   ]
  },
  {
   "cell_type": "code",
   "execution_count": 16,
   "metadata": {
    "colab": {
     "background_save": true,
     "base_uri": "https://localhost:8080/",
     "height": 243,
     "referenced_widgets": [
      "97b9034bcf6849c099a0130e58082aef",
      "a880adc528cb4b108ea8b64ab9f346a4",
      "0b4ff53eaac74426986bdf943e5e66a4",
      "b96aa587992f4b2f983b0b4c97db1bd7",
      "5cbb99767dda4eb8841ecc7deb8ce1b5",
      "10e8452ee9b0487faa06fa88c66e1f79",
      "4981fb0dd1ec4eeb856a3a81ef02cbcd",
      "e2a44c81b98b4f88bb6e2c448e6dfdca",
      "665a32bd05064b2ea2966330737d88d6",
      "107f9112a6014c75a7ef0fb1528fc984",
      "ea0f2415e3204eb39b676403b4db9c71"
     ]
    },
    "id": "o-CWzdZKIYQP",
    "outputId": "025c41a9-d5c7-42a4-b4cb-4f27fb9e82e0"
   },
   "outputs": [
    {
     "name": "stderr",
     "output_type": "stream",
     "text": [
      "/home/codespace/.python/current/lib/python3.12/site-packages/tqdm/auto.py:21: TqdmWarning: IProgress not found. Please update jupyter and ipywidgets. See https://ipywidgets.readthedocs.io/en/stable/user_install.html\n",
      "  from .autonotebook import tqdm as notebook_tqdm\n"
     ]
    },
    {
     "name": "stdout",
     "output_type": "stream",
     "text": [
      "8360it [1:08:35,  2.03it/s, bound:814 nc:  1 ncall:5.7e+05 eff:1.6% logz-ratio=399.15+/-0.16 dlogz:0.000>0.1]  \n",
      "\n"
     ]
    }
   ],
   "source": [
    "result = bilby.core.sampler.run_sampler(\n",
    "    likelihood=likelihood,\n",
    "    priors=priors,\n",
    "    sampler='dynesty',\n",
    "    outdir='./outdir',\n",
    "    label='legends',\n",
    "    nlive=500,\n",
    "    resume=False\n",
    ")"
   ]
  },
  {
   "cell_type": "code",
   "execution_count": 17,
   "metadata": {
    "id": "GQBzG7ntIYQP"
   },
   "outputs": [
    {
     "data": {
      "image/png": "[encoded data removed]",
      "text/plain": [
       "<Figure size 550x550 with 4 Axes>"
      ]
     },
     "execution_count": 17,
     "metadata": {},
     "output_type": "execute_result"
    }
   ],
   "source": [
    "truths = {key:injection_parameters[key] for key in keys_of_interest}\n",
    "result.plot_corner(truths=truths)"
   ]
  },
  {
   "cell_type": "code",
   "execution_count": null,
   "metadata": {
    "id": "nfkP6flsIYQS"
   },
   "outputs": [],
   "source": []
  }
 ],
 "metadata": {
  "colab": {
   "provenance": [
    {
     "file_id": "https://github.com/Uddiptaatwork/NIKHEF-2024-GWDA/blob/main/tutorial_notebooks/2_inference_likelihood-based.ipynb",
     "timestamp": 1736511172262
    }
   ]
  },
  "kernelspec": {
   "display_name": "Python 3",
   "name": "python3"
  },
  "language_info": {
   "codemirror_mode": {
    "name": "ipython",
    "version": 3
   },
   "file_extension": ".py",
   "mimetype": "text/x-python",
   "name": "python",
   "nbconvert_exporter": "python",
   "pygments_lexer": "ipython3",
   "version": "3.12.1"
  },
  "widgets": {
   "application/vnd.jupyter.widget-state+json": {
    "0b4ff53eaac74426986bdf943e5e66a4": {
     "model_module": "@jupyter-widgets/controls",
     "model_module_version": "1.5.0",
     "model_name": "FloatProgressModel",
     "state": {
      "_dom_classes": [],
      "_model_module": "@jupyter-widgets/controls",
      "_model_module_version": "1.5.0",
      "_model_name": "FloatProgressModel",
      "_view_count": null,
      "_view_module": "@jupyter-widgets/controls",
      "_view_module_version": "1.5.0",
      "_view_name": "ProgressView",
      "bar_style": "info",
      "description": "",
      "description_tooltip": null,
      "layout": "IPY_MODEL_e2a44c81b98b4f88bb6e2c448e6dfdca",
      "max": 1,
      "min": 0,
      "orientation": "horizontal",
      "style": "IPY_MODEL_665a32bd05064b2ea2966330737d88d6",
      "value": 1
     }
    },
    "107f9112a6014c75a7ef0fb1528fc984": {
     "model_module": "@jupyter-widgets/base",
     "model_module_version": "1.2.0",
     "model_name": "LayoutModel",
     "state": {
      "_model_module": "@jupyter-widgets/base",
      "_model_module_version": "1.2.0",
      "_model_name": "LayoutModel",
      "_view_count": null,
      "_view_module": "@jupyter-widgets/base",
      "_view_module_version": "1.2.0",
      "_view_name": "LayoutView",
      "align_content": null,
      "align_items": null,
      "align_self": null,
      "border": null,
      "bottom": null,
      "display": null,
      "flex": null,
      "flex_flow": null,
      "grid_area": null,
      "grid_auto_columns": null,
      "grid_auto_flow": null,
      "grid_auto_rows": null,
      "grid_column": null,
      "grid_gap": null,
      "grid_row": null,
      "grid_template_areas": null,
      "grid_template_columns": null,
      "grid_template_rows": null,
      "height": null,
      "justify_content": null,
      "justify_items": null,
      "left": null,
      "margin": null,
      "max_height": null,
      "max_width": null,
      "min_height": null,
      "min_width": null,
      "object_fit": null,
      "object_position": null,
      "order": null,
      "overflow": null,
      "overflow_x": null,
      "overflow_y": null,
      "padding": null,
      "right": null,
      "top": null,
      "visibility": null,
      "width": null
     }
    },
    "10e8452ee9b0487faa06fa88c66e1f79": {
     "model_module": "@jupyter-widgets/base",
     "model_module_version": "1.2.0",
     "model_name": "LayoutModel",
     "state": {
      "_model_module": "@jupyter-widgets/base",
      "_model_module_version": "1.2.0",
      "_model_name": "LayoutModel",
      "_view_count": null,
      "_view_module": "@jupyter-widgets/base",
      "_view_module_version": "1.2.0",
      "_view_name": "LayoutView",
      "align_content": null,
      "align_items": null,
      "align_self": null,
      "border": null,
      "bottom": null,
      "display": null,
      "flex": null,
      "flex_flow": null,
      "grid_area": null,
      "grid_auto_columns": null,
      "grid_auto_flow": null,
      "grid_auto_rows": null,
      "grid_column": null,
      "grid_gap": null,
      "grid_row": null,
      "grid_template_areas": null,
      "grid_template_columns": null,
      "grid_template_rows": null,
      "height": null,
      "justify_content": null,
      "justify_items": null,
      "left": null,
      "margin": null,
      "max_height": null,
      "max_width": null,
      "min_height": null,
      "min_width": null,
      "object_fit": null,
      "object_position": null,
      "order": null,
      "overflow": null,
      "overflow_x": null,
      "overflow_y": null,
      "padding": null,
      "right": null,
      "top": null,
      "visibility": null,
      "width": null
     }
    },
    "4981fb0dd1ec4eeb856a3a81ef02cbcd": {
     "model_module": "@jupyter-widgets/controls",
     "model_module_version": "1.5.0",
     "model_name": "DescriptionStyleModel",
     "state": {
      "_model_module": "@jupyter-widgets/controls",
      "_model_module_version": "1.5.0",
      "_model_name": "DescriptionStyleModel",
      "_view_count": null,
      "_view_module": "@jupyter-widgets/base",
      "_view_module_version": "1.2.0",
      "_view_name": "StyleView",
      "description_width": ""
     }
    },
    "5cbb99767dda4eb8841ecc7deb8ce1b5": {
     "model_module": "@jupyter-widgets/base",
     "model_module_version": "1.2.0",
     "model_name": "LayoutModel",
     "state": {
      "_model_module": "@jupyter-widgets/base",
      "_model_module_version": "1.2.0",
      "_model_name": "LayoutModel",
      "_view_count": null,
      "_view_module": "@jupyter-widgets/base",
      "_view_module_version": "1.2.0",
      "_view_name": "LayoutView",
      "align_content": null,
      "align_items": null,
      "align_self": null,
      "border": null,
      "bottom": null,
      "display": null,
      "flex": null,
      "flex_flow": null,
      "grid_area": null,
      "grid_auto_columns": null,
      "grid_auto_flow": null,
      "grid_auto_rows": null,
      "grid_column": null,
      "grid_gap": null,
      "grid_row": null,
      "grid_template_areas": null,
      "grid_template_columns": null,
      "grid_template_rows": null,
      "height": null,
      "justify_content": null,
      "justify_items": null,
      "left": null,
      "margin": null,
      "max_height": null,
      "max_width": null,
      "min_height": null,
      "min_width": null,
      "object_fit": null,
      "object_position": null,
      "order": null,
      "overflow": null,
      "overflow_x": null,
      "overflow_y": null,
      "padding": null,
      "right": null,
      "top": null,
      "visibility": null,
      "width": null
     }
    },
    "665a32bd05064b2ea2966330737d88d6": {
     "model_module": "@jupyter-widgets/controls",
     "model_module_version": "1.5.0",
     "model_name": "ProgressStyleModel",
     "state": {
      "_model_module": "@jupyter-widgets/controls",
      "_model_module_version": "1.5.0",
      "_model_name": "ProgressStyleModel",
      "_view_count": null,
      "_view_module": "@jupyter-widgets/base",
      "_view_module_version": "1.2.0",
      "_view_name": "StyleView",
      "bar_color": null,
      "description_width": ""
     }
    },
    "97b9034bcf6849c099a0130e58082aef": {
     "model_module": "@jupyter-widgets/controls",
     "model_module_version": "1.5.0",
     "model_name": "HBoxModel",
     "state": {
      "_dom_classes": [],
      "_model_module": "@jupyter-widgets/controls",
      "_model_module_version": "1.5.0",
      "_model_name": "HBoxModel",
      "_view_count": null,
      "_view_module": "@jupyter-widgets/controls",
      "_view_module_version": "1.5.0",
      "_view_name": "HBoxView",
      "box_style": "",
      "children": [
       "IPY_MODEL_a880adc528cb4b108ea8b64ab9f346a4",
       "IPY_MODEL_0b4ff53eaac74426986bdf943e5e66a4",
       "IPY_MODEL_b96aa587992f4b2f983b0b4c97db1bd7"
      ],
      "layout": "IPY_MODEL_5cbb99767dda4eb8841ecc7deb8ce1b5"
     }
    },
    "a880adc528cb4b108ea8b64ab9f346a4": {
     "model_module": "@jupyter-widgets/controls",
     "model_module_version": "1.5.0",
     "model_name": "HTMLModel",
     "state": {
      "_dom_classes": [],
      "_model_module": "@jupyter-widgets/controls",
      "_model_module_version": "1.5.0",
      "_model_name": "HTMLModel",
      "_view_count": null,
      "_view_module": "@jupyter-widgets/controls",
      "_view_module_version": "1.5.0",
      "_view_name": "HTMLView",
      "description": "",
      "description_tooltip": null,
      "layout": "IPY_MODEL_10e8452ee9b0487faa06fa88c66e1f79",
      "placeholder": "​",
      "style": "IPY_MODEL_4981fb0dd1ec4eeb856a3a81ef02cbcd",
      "value": ""
     }
    },
    "b96aa587992f4b2f983b0b4c97db1bd7": {
     "model_module": "@jupyter-widgets/controls",
     "model_module_version": "1.5.0",
     "model_name": "HTMLModel",
     "state": {
      "_dom_classes": [],
      "_model_module": "@jupyter-widgets/controls",
      "_model_module_version": "1.5.0",
      "_model_name": "HTMLModel",
      "_view_count": null,
      "_view_module": "@jupyter-widgets/controls",
      "_view_module_version": "1.5.0",
      "_view_name": "HTMLView",
      "description": "",
      "description_tooltip": null,
      "layout": "IPY_MODEL_107f9112a6014c75a7ef0fb1528fc984",
      "placeholder": "​",
      "style": "IPY_MODEL_ea0f2415e3204eb39b676403b4db9c71",
      "value": " 2158/? [1:01:12&lt;00:00,  4.25s/it, bound:73 nc:144 ncall:6.7e+04 eff:3.2% logz-ratio=-107.81+/-0.04 dlogz:532.771&gt;0.1]"
     }
    },
    "e2a44c81b98b4f88bb6e2c448e6dfdca": {
     "model_module": "@jupyter-widgets/base",
     "model_module_version": "1.2.0",
     "model_name": "LayoutModel",
     "state": {
      "_model_module": "@jupyter-widgets/base",
      "_model_module_version": "1.2.0",
      "_model_name": "LayoutModel",
      "_view_count": null,
      "_view_module": "@jupyter-widgets/base",
      "_view_module_version": "1.2.0",
      "_view_name": "LayoutView",
      "align_content": null,
      "align_items": null,
      "align_self": null,
      "border": null,
      "bottom": null,
      "display": null,
      "flex": null,
      "flex_flow": null,
      "grid_area": null,
      "grid_auto_columns": null,
      "grid_auto_flow": null,
      "grid_auto_rows": null,
      "grid_column": null,
      "grid_gap": null,
      "grid_row": null,
      "grid_template_areas": null,
      "grid_template_columns": null,
      "grid_template_rows": null,
      "height": null,
      "justify_content": null,
      "justify_items": null,
      "left": null,
      "margin": null,
      "max_height": null,
      "max_width": null,
      "min_height": null,
      "min_width": null,
      "object_fit": null,
      "object_position": null,
      "order": null,
      "overflow": null,
      "overflow_x": null,
      "overflow_y": null,
      "padding": null,
      "right": null,
      "top": null,
      "visibility": null,
      "width": "20px"
     }
    },
    "ea0f2415e3204eb39b676403b4db9c71": {
     "model_module": "@jupyter-widgets/controls",
     "model_module_version": "1.5.0",
     "model_name": "DescriptionStyleModel",
     "state": {
      "_model_module": "@jupyter-widgets/controls",
      "_model_module_version": "1.5.0",
      "_model_name": "DescriptionStyleModel",
      "_view_count": null,
      "_view_module": "@jupyter-widgets/base",
      "_view_module_version": "1.2.0",
      "_view_name": "StyleView",
      "description_width": ""
     }
    }
   }
  }
 },
 "nbformat": 4,
 "nbformat_minor": 0
}
